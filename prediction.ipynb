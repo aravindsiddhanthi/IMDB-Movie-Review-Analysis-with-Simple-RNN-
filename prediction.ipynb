{
 "cells": [
  {
   "cell_type": "code",
   "execution_count": 3,
   "metadata": {},
   "outputs": [],
   "source": [
    "## Step 1 : Import Libraries and Load the Model\n",
    "\n",
    "import numpy as np\n",
    "import tensorflow as tf\n",
    "from tensorflow.keras.datasets import imdb\n",
    "from tensorflow.keras.preprocessing import sequence\n",
    "from tensorflow.keras.models import load_model\n"
   ]
  },
  {
   "cell_type": "code",
   "execution_count": 4,
   "metadata": {},
   "outputs": [],
   "source": [
    "# Load the IMDB dataset word Index\n",
    "word_Index = imdb.get_word_index()\n",
    "reverse_word_index = {value: key for key, value in word_Index.items()}"
   ]
  },
  {
   "cell_type": "code",
   "execution_count": 5,
   "metadata": {},
   "outputs": [
    {
     "name": "stderr",
     "output_type": "stream",
     "text": [
      "WARNING:absl:Compiled the loaded model, but the compiled metrics have yet to be built. `model.compile_metrics` will be empty until you train or evaluate the model.\n"
     ]
    },
    {
     "data": {
      "text/html": [
       "<pre style=\"white-space:pre;overflow-x:auto;line-height:normal;font-family:Menlo,'DejaVu Sans Mono',consolas,'Courier New',monospace\"><span style=\"font-weight: bold\">Model: \"sequential_13\"</span>\n",
       "</pre>\n"
      ],
      "text/plain": [
       "\u001b[1mModel: \"sequential_13\"\u001b[0m\n"
      ]
     },
     "metadata": {},
     "output_type": "display_data"
    },
    {
     "data": {
      "text/html": [
       "<pre style=\"white-space:pre;overflow-x:auto;line-height:normal;font-family:Menlo,'DejaVu Sans Mono',consolas,'Courier New',monospace\">┏━━━━━━━━━━━━━━━━━━━━━━━━━━━━━━━━━┳━━━━━━━━━━━━━━━━━━━━━━━━┳━━━━━━━━━━━━━━━┓\n",
       "┃<span style=\"font-weight: bold\"> Layer (type)                    </span>┃<span style=\"font-weight: bold\"> Output Shape           </span>┃<span style=\"font-weight: bold\">       Param # </span>┃\n",
       "┡━━━━━━━━━━━━━━━━━━━━━━━━━━━━━━━━━╇━━━━━━━━━━━━━━━━━━━━━━━━╇━━━━━━━━━━━━━━━┩\n",
       "│ embedding_12 (<span style=\"color: #0087ff; text-decoration-color: #0087ff\">Embedding</span>)        │ (<span style=\"color: #00d7ff; text-decoration-color: #00d7ff\">None</span>, <span style=\"color: #00af00; text-decoration-color: #00af00\">500</span>, <span style=\"color: #00af00; text-decoration-color: #00af00\">128</span>)       │     <span style=\"color: #00af00; text-decoration-color: #00af00\">1,280,000</span> │\n",
       "├─────────────────────────────────┼────────────────────────┼───────────────┤\n",
       "│ simple_rnn_12 (<span style=\"color: #0087ff; text-decoration-color: #0087ff\">SimpleRNN</span>)       │ (<span style=\"color: #00d7ff; text-decoration-color: #00d7ff\">None</span>, <span style=\"color: #00af00; text-decoration-color: #00af00\">128</span>)            │        <span style=\"color: #00af00; text-decoration-color: #00af00\">32,896</span> │\n",
       "├─────────────────────────────────┼────────────────────────┼───────────────┤\n",
       "│ dense_12 (<span style=\"color: #0087ff; text-decoration-color: #0087ff\">Dense</span>)                │ (<span style=\"color: #00d7ff; text-decoration-color: #00d7ff\">None</span>, <span style=\"color: #00af00; text-decoration-color: #00af00\">1</span>)              │           <span style=\"color: #00af00; text-decoration-color: #00af00\">129</span> │\n",
       "└─────────────────────────────────┴────────────────────────┴───────────────┘\n",
       "</pre>\n"
      ],
      "text/plain": [
       "┏━━━━━━━━━━━━━━━━━━━━━━━━━━━━━━━━━┳━━━━━━━━━━━━━━━━━━━━━━━━┳━━━━━━━━━━━━━━━┓\n",
       "┃\u001b[1m \u001b[0m\u001b[1mLayer (type)                   \u001b[0m\u001b[1m \u001b[0m┃\u001b[1m \u001b[0m\u001b[1mOutput Shape          \u001b[0m\u001b[1m \u001b[0m┃\u001b[1m \u001b[0m\u001b[1m      Param #\u001b[0m\u001b[1m \u001b[0m┃\n",
       "┡━━━━━━━━━━━━━━━━━━━━━━━━━━━━━━━━━╇━━━━━━━━━━━━━━━━━━━━━━━━╇━━━━━━━━━━━━━━━┩\n",
       "│ embedding_12 (\u001b[38;5;33mEmbedding\u001b[0m)        │ (\u001b[38;5;45mNone\u001b[0m, \u001b[38;5;34m500\u001b[0m, \u001b[38;5;34m128\u001b[0m)       │     \u001b[38;5;34m1,280,000\u001b[0m │\n",
       "├─────────────────────────────────┼────────────────────────┼───────────────┤\n",
       "│ simple_rnn_12 (\u001b[38;5;33mSimpleRNN\u001b[0m)       │ (\u001b[38;5;45mNone\u001b[0m, \u001b[38;5;34m128\u001b[0m)            │        \u001b[38;5;34m32,896\u001b[0m │\n",
       "├─────────────────────────────────┼────────────────────────┼───────────────┤\n",
       "│ dense_12 (\u001b[38;5;33mDense\u001b[0m)                │ (\u001b[38;5;45mNone\u001b[0m, \u001b[38;5;34m1\u001b[0m)              │           \u001b[38;5;34m129\u001b[0m │\n",
       "└─────────────────────────────────┴────────────────────────┴───────────────┘\n"
      ]
     },
     "metadata": {},
     "output_type": "display_data"
    },
    {
     "data": {
      "text/html": [
       "<pre style=\"white-space:pre;overflow-x:auto;line-height:normal;font-family:Menlo,'DejaVu Sans Mono',consolas,'Courier New',monospace\"><span style=\"font-weight: bold\"> Total params: </span><span style=\"color: #00af00; text-decoration-color: #00af00\">1,313,027</span> (5.01 MB)\n",
       "</pre>\n"
      ],
      "text/plain": [
       "\u001b[1m Total params: \u001b[0m\u001b[38;5;34m1,313,027\u001b[0m (5.01 MB)\n"
      ]
     },
     "metadata": {},
     "output_type": "display_data"
    },
    {
     "data": {
      "text/html": [
       "<pre style=\"white-space:pre;overflow-x:auto;line-height:normal;font-family:Menlo,'DejaVu Sans Mono',consolas,'Courier New',monospace\"><span style=\"font-weight: bold\"> Trainable params: </span><span style=\"color: #00af00; text-decoration-color: #00af00\">1,313,025</span> (5.01 MB)\n",
       "</pre>\n"
      ],
      "text/plain": [
       "\u001b[1m Trainable params: \u001b[0m\u001b[38;5;34m1,313,025\u001b[0m (5.01 MB)\n"
      ]
     },
     "metadata": {},
     "output_type": "display_data"
    },
    {
     "data": {
      "text/html": [
       "<pre style=\"white-space:pre;overflow-x:auto;line-height:normal;font-family:Menlo,'DejaVu Sans Mono',consolas,'Courier New',monospace\"><span style=\"font-weight: bold\"> Non-trainable params: </span><span style=\"color: #00af00; text-decoration-color: #00af00\">0</span> (0.00 B)\n",
       "</pre>\n"
      ],
      "text/plain": [
       "\u001b[1m Non-trainable params: \u001b[0m\u001b[38;5;34m0\u001b[0m (0.00 B)\n"
      ]
     },
     "metadata": {},
     "output_type": "display_data"
    },
    {
     "data": {
      "text/html": [
       "<pre style=\"white-space:pre;overflow-x:auto;line-height:normal;font-family:Menlo,'DejaVu Sans Mono',consolas,'Courier New',monospace\"><span style=\"font-weight: bold\"> Optimizer params: </span><span style=\"color: #00af00; text-decoration-color: #00af00\">2</span> (12.00 B)\n",
       "</pre>\n"
      ],
      "text/plain": [
       "\u001b[1m Optimizer params: \u001b[0m\u001b[38;5;34m2\u001b[0m (12.00 B)\n"
      ]
     },
     "metadata": {},
     "output_type": "display_data"
    }
   ],
   "source": [
    "# Load the pre-trained model with ReLU activation\n",
    "model = load_model('simple_rnn_imdb.h5')\n",
    "model.summary()"
   ]
  },
  {
   "cell_type": "code",
   "execution_count": null,
   "metadata": {},
   "outputs": [
    {
     "data": {
      "text/plain": [
       "[array([[-4.5926288e-01, -5.9324335e-02, -1.1501789e+00, ...,\n",
       "         -4.0625420e-01,  2.9005262e-01, -4.2720851e-01],\n",
       "        [-5.5899541e-03,  5.1127549e-02, -1.3268483e-01, ...,\n",
       "         -6.3830681e-02,  6.9937803e-04,  7.2648644e-02],\n",
       "        [-4.8390586e-02, -6.3911684e-02,  8.1359232e-03, ...,\n",
       "         -2.1221347e-01, -2.9835820e-02,  1.5146895e-01],\n",
       "        ...,\n",
       "        [-3.6804727e-03,  1.1187848e-01,  5.4748494e-02, ...,\n",
       "         -6.4407922e-02,  3.8584601e-02, -2.7621258e-02],\n",
       "        [ 3.2473318e-02,  7.6927659e-03, -6.0297772e-02, ...,\n",
       "         -5.2197967e-03, -3.6432181e-02,  5.0683476e-02],\n",
       "        [ 6.3675746e-02,  1.5093626e-01,  1.5701327e-01, ...,\n",
       "         -8.3882622e-02,  2.4397300e-01,  9.7725973e-02]], dtype=float32),\n",
       " array([[-0.08601131, -0.1094223 , -0.10731783, ..., -0.07098445,\n",
       "          0.14420101, -0.07862931],\n",
       "        [ 0.05676319,  0.0872902 ,  0.07473826, ..., -0.09726144,\n",
       "          0.06375631, -0.01152887],\n",
       "        [ 0.11063871,  0.00624198, -0.06974434, ..., -0.06140722,\n",
       "          0.15333825,  0.11768364],\n",
       "        ...,\n",
       "        [ 0.10835314, -0.08004688, -0.10169981, ...,  0.04392514,\n",
       "         -0.05223835,  0.0271524 ],\n",
       "        [-0.06817147,  0.11027403, -0.0694552 , ..., -0.21821709,\n",
       "         -0.08075172, -0.02773123],\n",
       "        [-0.0803134 ,  0.09106107, -0.12373576, ..., -0.04712001,\n",
       "         -0.00285127, -0.06727617]], dtype=float32),\n",
       " array([[-0.09863315,  0.12532781,  0.08898977, ...,  0.16973396,\n",
       "          0.15927088, -0.06583217],\n",
       "        [-0.08664968,  0.02386197, -0.08039418, ...,  0.19768049,\n",
       "         -0.11619466,  0.27412996],\n",
       "        [ 0.04874317, -0.08323607, -0.09469867, ..., -0.18968146,\n",
       "         -0.02320407, -0.07762698],\n",
       "        ...,\n",
       "        [-0.11039706,  0.08132841,  0.0769428 , ...,  0.00276152,\n",
       "         -0.26309684, -0.13584214],\n",
       "        [ 0.12896101,  0.11443847,  0.23981862, ..., -0.14657556,\n",
       "         -0.23172429, -0.15235844],\n",
       "        [-0.07197095,  0.3204858 , -0.0709991 , ...,  0.01640917,\n",
       "          0.07856078,  0.20705225]], dtype=float32),\n",
       " array([-0.08021381, -0.03371691, -0.04060399, -0.07661215,  0.00248108,\n",
       "        -0.00569206, -0.09942847, -0.04369923, -0.02811438,  0.01199908,\n",
       "        -0.06362838, -0.00370174, -0.04362284, -0.03384336, -0.06135787,\n",
       "        -0.06056962, -0.02398654, -0.04781281,  0.1408261 ,  0.06270389,\n",
       "        -0.03507499, -0.00247321, -0.0434451 ,  0.01418624, -0.01996916,\n",
       "        -0.00509769,  0.01741862, -0.0484526 , -0.07169702, -0.03263913,\n",
       "        -0.04666101, -0.07411827, -0.03641049, -0.05990668, -0.05485277,\n",
       "        -0.04585454,  0.01632119,  0.03759398,  0.02932788,  0.01128816,\n",
       "        -0.10330843,  0.03205212, -0.03004906, -0.05459278, -0.09058459,\n",
       "         0.01843867, -0.07358561,  0.01513063, -0.02907973, -0.02597464,\n",
       "        -0.1014986 , -0.06090724,  0.0814214 , -0.09382816, -0.02299945,\n",
       "        -0.01443063,  0.05421467,  0.0168096 , -0.04589863, -0.06847493,\n",
       "         0.00167057, -0.02773656, -0.03367816, -0.03768516, -0.07506648,\n",
       "        -0.01642471, -0.14095598,  0.09572754, -0.07266271,  0.0312826 ,\n",
       "         0.02234606,  0.03019122, -0.02278431, -0.02585673, -0.01630954,\n",
       "        -0.00635294, -0.03327461, -0.10657136,  0.01182025, -0.06772515,\n",
       "        -0.02131349,  0.0133049 , -0.05502804,  0.05557264,  0.04441526,\n",
       "        -0.06200152, -0.12725838, -0.04535184, -0.04796533, -0.03858783,\n",
       "        -0.01576679,  0.0202228 , -0.00587963, -0.08529186, -0.03520963,\n",
       "        -0.09249813, -0.01630648, -0.04742752, -0.10944504, -0.0188953 ,\n",
       "        -0.05358429,  0.02912659, -0.07164564, -0.0895051 , -0.02345884,\n",
       "         0.02118   ,  0.08260604, -0.06451292, -0.05162885, -0.07323185,\n",
       "        -0.05070736, -0.07786297, -0.04308277, -0.03479112,  0.01137195,\n",
       "        -0.03013773,  0.03567715, -0.1216008 , -0.09911075, -0.09210721,\n",
       "         0.02284049, -0.02542433, -0.12541291, -0.02448344, -0.04631403,\n",
       "        -0.00240528, -0.1423056 , -0.08254086], dtype=float32),\n",
       " array([[-9.48481560e-02],\n",
       "        [ 1.79362625e-01],\n",
       "        [ 2.62102336e-01],\n",
       "        [-1.57201409e-01],\n",
       "        [ 1.71498787e-02],\n",
       "        [ 4.73594368e-01],\n",
       "        [ 2.74043381e-01],\n",
       "        [-7.71740377e-02],\n",
       "        [ 6.97327927e-02],\n",
       "        [ 3.65222357e-02],\n",
       "        [ 4.91410419e-02],\n",
       "        [ 8.74411687e-02],\n",
       "        [-3.11722904e-01],\n",
       "        [ 3.30769897e-01],\n",
       "        [-3.86620574e-02],\n",
       "        [ 1.81391552e-01],\n",
       "        [ 4.92688939e-02],\n",
       "        [-9.78198573e-02],\n",
       "        [-2.91811628e-03],\n",
       "        [ 1.90705881e-01],\n",
       "        [ 1.61516815e-01],\n",
       "        [ 3.30945134e-01],\n",
       "        [-1.36625230e-01],\n",
       "        [-5.27086735e-01],\n",
       "        [ 1.18157670e-01],\n",
       "        [ 6.14655614e-02],\n",
       "        [-3.52916191e-04],\n",
       "        [ 1.56223783e-02],\n",
       "        [ 1.81817770e-01],\n",
       "        [ 1.52870163e-01],\n",
       "        [ 2.32750893e-01],\n",
       "        [ 1.99185774e-01],\n",
       "        [ 1.29526690e-01],\n",
       "        [-3.45163085e-02],\n",
       "        [ 1.44819856e-01],\n",
       "        [-1.14503697e-01],\n",
       "        [ 8.63817260e-02],\n",
       "        [-1.14800990e-01],\n",
       "        [ 6.07275367e-02],\n",
       "        [ 4.97686444e-03],\n",
       "        [ 9.35215577e-02],\n",
       "        [-1.91133976e-01],\n",
       "        [-1.41557410e-01],\n",
       "        [-1.01982214e-01],\n",
       "        [-5.54280519e-01],\n",
       "        [ 9.84529927e-02],\n",
       "        [ 2.46285483e-01],\n",
       "        [ 1.31595088e-02],\n",
       "        [ 1.15663350e-01],\n",
       "        [-2.87633002e-01],\n",
       "        [-1.43075272e-01],\n",
       "        [-3.81419882e-02],\n",
       "        [-1.98545560e-01],\n",
       "        [-3.42810005e-01],\n",
       "        [-5.71843749e-03],\n",
       "        [ 1.15843620e-02],\n",
       "        [ 2.95785546e-01],\n",
       "        [ 2.45737314e-01],\n",
       "        [ 1.64784595e-01],\n",
       "        [-2.43054435e-01],\n",
       "        [ 2.93357313e-01],\n",
       "        [-2.10215017e-01],\n",
       "        [-5.78517057e-02],\n",
       "        [-5.40511012e-01],\n",
       "        [ 3.52153815e-02],\n",
       "        [-4.63820487e-01],\n",
       "        [ 1.28422439e-01],\n",
       "        [-1.06669344e-01],\n",
       "        [-7.60561883e-01],\n",
       "        [ 1.17169432e-01],\n",
       "        [-4.91724983e-02],\n",
       "        [-1.77314728e-01],\n",
       "        [ 8.80349204e-02],\n",
       "        [ 6.38813227e-02],\n",
       "        [-2.01998979e-01],\n",
       "        [-6.96335360e-02],\n",
       "        [-1.44205719e-01],\n",
       "        [ 1.19149044e-01],\n",
       "        [-4.36231866e-02],\n",
       "        [-5.46342432e-02],\n",
       "        [ 2.55125850e-01],\n",
       "        [ 1.40708283e-01],\n",
       "        [-1.23223536e-01],\n",
       "        [ 1.84907451e-01],\n",
       "        [-8.93222541e-02],\n",
       "        [-2.47237861e-01],\n",
       "        [ 9.63121057e-02],\n",
       "        [ 6.36604503e-02],\n",
       "        [ 1.21176086e-01],\n",
       "        [ 2.38742143e-01],\n",
       "        [-1.25469491e-02],\n",
       "        [ 1.66610792e-01],\n",
       "        [-3.90492938e-02],\n",
       "        [ 8.23757574e-02],\n",
       "        [ 1.19626328e-01],\n",
       "        [ 1.46991223e-01],\n",
       "        [ 1.98262826e-01],\n",
       "        [ 3.44985545e-01],\n",
       "        [-3.63657027e-02],\n",
       "        [-1.29149735e-01],\n",
       "        [ 4.36604917e-01],\n",
       "        [-3.77264582e-02],\n",
       "        [ 2.14743093e-01],\n",
       "        [ 1.54333031e-02],\n",
       "        [-1.40150517e-01],\n",
       "        [-9.74973142e-02],\n",
       "        [ 1.14535011e-01],\n",
       "        [ 5.01777530e-01],\n",
       "        [ 3.78648728e-01],\n",
       "        [ 3.22153158e-02],\n",
       "        [-9.87260565e-02],\n",
       "        [-4.40739701e-03],\n",
       "        [ 1.96461067e-01],\n",
       "        [ 4.91074175e-01],\n",
       "        [ 3.96395884e-02],\n",
       "        [-4.47110012e-02],\n",
       "        [ 4.56905626e-02],\n",
       "        [-7.67001629e-01],\n",
       "        [-2.59685181e-02],\n",
       "        [-5.62583329e-03],\n",
       "        [ 1.21252559e-01],\n",
       "        [ 1.46273211e-01],\n",
       "        [ 1.05484366e-01],\n",
       "        [-6.93113953e-02],\n",
       "        [ 4.22744118e-02],\n",
       "        [-3.49295735e-02],\n",
       "        [ 1.99707881e-01],\n",
       "        [ 1.52176842e-01]], dtype=float32),\n",
       " array([0.58782184], dtype=float32)]"
      ]
     },
     "execution_count": 7,
     "metadata": {},
     "output_type": "execute_result"
    }
   ],
   "source": [
    "model.get_weights() # just to check not mandate step "
   ]
  },
  {
   "cell_type": "code",
   "execution_count": 8,
   "metadata": {},
   "outputs": [],
   "source": [
    "# Step 2: Helper Function\n",
    "#Function to decode reviews\n",
    "def code_review(encoded_review):\n",
    "    return ' '.join([reverse_word_index.get(i -3, '?') for i in encoded_review])\n",
    "\n",
    "\n",
    "# function to preporcess user input \n",
    "def preprocess_text(text):\n",
    "    words = text.lower().split()\n",
    "    encoded_review =  [word_Index.get(word,2) +3 for word in words]\n",
    "    padded_review = sequence.pad_sequences([encoded_review],maxlen=500)\n",
    "    return padded_review"
   ]
  },
  {
   "cell_type": "code",
   "execution_count": 9,
   "metadata": {},
   "outputs": [],
   "source": [
    "### prediction function\n",
    "\n",
    "def predic_sentiment(review):\n",
    "    preprocessed_input=preprocess_text(review)\n",
    "\n",
    "    prediction=model.predict(preprocessed_input)\n",
    "\n",
    "    sentiment  = 'Positive' if prediction[0][0] > 0.5 else 'Negative'\n",
    "\n",
    "    return sentiment, prediction[0][0]\n",
    "\n"
   ]
  },
  {
   "cell_type": "code",
   "execution_count": 10,
   "metadata": {},
   "outputs": [
    {
     "name": "stdout",
     "output_type": "stream",
     "text": [
      "\u001b[1m1/1\u001b[0m \u001b[32m━━━━━━━━━━━━━━━━━━━━\u001b[0m\u001b[37m\u001b[0m \u001b[1m0s\u001b[0m 171ms/step\n",
      "Review: This movie was fantasic! The acting was great and the plot was thrilling.\n",
      "Sentiment: Positive\n",
      "Prediction Score : 0.7330633401870728\n"
     ]
    }
   ],
   "source": [
    "# Step 4 : User Input and Prediction\n",
    "\n",
    "#Example review for prediciton\n",
    "\n",
    "exmaple_review = \"This movie was fantasic! The acting was great and the plot was thrilling.\"\n",
    "\n",
    "sentiment,score=predic_sentiment(exmaple_review)\n",
    "\n",
    "print(f'Review: {exmaple_review}')\n",
    "print(f'Sentiment: {sentiment}')\n",
    "print(f'Prediction Score : {score}')"
   ]
  }
 ],
 "metadata": {
  "kernelspec": {
   "display_name": "Python 3",
   "language": "python",
   "name": "python3"
  },
  "language_info": {
   "codemirror_mode": {
    "name": "ipython",
    "version": 3
   },
   "file_extension": ".py",
   "mimetype": "text/x-python",
   "name": "python",
   "nbconvert_exporter": "python",
   "pygments_lexer": "ipython3",
   "version": "3.11.11"
  }
 },
 "nbformat": 4,
 "nbformat_minor": 2
}
